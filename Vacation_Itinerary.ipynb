{
 "cells": [
  {
   "cell_type": "code",
   "execution_count": 1,
   "metadata": {},
   "outputs": [],
   "source": [
    "# Import the dependencies.\n",
    "import pandas as pd\n",
    "import matplotlib.pyplot as plt\n",
    "import numpy as np\n",
    "# Import the datetime module from the datetime library.\n",
    "from datetime import datetime\n",
    "# Import linear regression from the SciPy stats module.\n",
    "from scipy.stats import linregress\n",
    "from citipy import citipy\n",
    "# Import the google API key.\n",
    "from config import g_key\n",
    "import gmaps\n",
    "import gmaps.datasets\n",
    "import requests"
   ]
  },
  {
   "cell_type": "code",
   "execution_count": 2,
   "metadata": {},
   "outputs": [
    {
     "data": {
      "text/html": [
       "<div>\n",
       "<style scoped>\n",
       "    .dataframe tbody tr th:only-of-type {\n",
       "        vertical-align: middle;\n",
       "    }\n",
       "\n",
       "    .dataframe tbody tr th {\n",
       "        vertical-align: top;\n",
       "    }\n",
       "\n",
       "    .dataframe thead th {\n",
       "        text-align: right;\n",
       "    }\n",
       "</style>\n",
       "<table border=\"1\" class=\"dataframe\">\n",
       "  <thead>\n",
       "    <tr style=\"text-align: right;\">\n",
       "      <th></th>\n",
       "      <th>City</th>\n",
       "      <th>Country</th>\n",
       "      <th>Max Temp</th>\n",
       "      <th>Current description</th>\n",
       "      <th>Lat</th>\n",
       "      <th>Lng</th>\n",
       "      <th>Hotel Name</th>\n",
       "    </tr>\n",
       "  </thead>\n",
       "  <tbody>\n",
       "    <tr>\n",
       "      <th>0</th>\n",
       "      <td>Emilio Carranza</td>\n",
       "      <td>MX</td>\n",
       "      <td>80.76</td>\n",
       "      <td>overcast clouds</td>\n",
       "      <td>19.97</td>\n",
       "      <td>-96.61</td>\n",
       "      <td>hotel delicias</td>\n",
       "    </tr>\n",
       "    <tr>\n",
       "      <th>1</th>\n",
       "      <td>Ugoofaaru</td>\n",
       "      <td>MV</td>\n",
       "      <td>80.60</td>\n",
       "      <td>overcast clouds</td>\n",
       "      <td>5.67</td>\n",
       "      <td>73.00</td>\n",
       "      <td>Ungoofaaru Inn</td>\n",
       "    </tr>\n",
       "    <tr>\n",
       "      <th>2</th>\n",
       "      <td>Auki</td>\n",
       "      <td>SB</td>\n",
       "      <td>81.05</td>\n",
       "      <td>clear sky</td>\n",
       "      <td>-8.77</td>\n",
       "      <td>160.70</td>\n",
       "      <td>Auki Motel</td>\n",
       "    </tr>\n",
       "    <tr>\n",
       "      <th>3</th>\n",
       "      <td>Hualmay</td>\n",
       "      <td>PE</td>\n",
       "      <td>70.38</td>\n",
       "      <td>overcast clouds</td>\n",
       "      <td>-11.10</td>\n",
       "      <td>-77.61</td>\n",
       "      <td>Hotel Restaurant Turístico Casablanca</td>\n",
       "    </tr>\n",
       "    <tr>\n",
       "      <th>4</th>\n",
       "      <td>Atuona</td>\n",
       "      <td>PF</td>\n",
       "      <td>80.94</td>\n",
       "      <td>light rain</td>\n",
       "      <td>-9.80</td>\n",
       "      <td>-139.03</td>\n",
       "      <td>Villa Enata</td>\n",
       "    </tr>\n",
       "  </tbody>\n",
       "</table>\n",
       "</div>"
      ],
      "text/plain": [
       "              City Country  Max Temp Current description    Lat     Lng  \\\n",
       "0  Emilio Carranza      MX     80.76     overcast clouds  19.97  -96.61   \n",
       "1        Ugoofaaru      MV     80.60     overcast clouds   5.67   73.00   \n",
       "2             Auki      SB     81.05           clear sky  -8.77  160.70   \n",
       "3          Hualmay      PE     70.38     overcast clouds -11.10  -77.61   \n",
       "4           Atuona      PF     80.94          light rain  -9.80 -139.03   \n",
       "\n",
       "                              Hotel Name  \n",
       "0                         hotel delicias  \n",
       "1                         Ungoofaaru Inn  \n",
       "2                             Auki Motel  \n",
       "3  Hotel Restaurant Turístico Casablanca  \n",
       "4                            Villa Enata  "
      ]
     },
     "execution_count": 2,
     "metadata": {},
     "output_type": "execute_result"
    }
   ],
   "source": [
    "#Import the WeatherPy_vacation.csv file as a new DataFrame\n",
    "city_data_df = pd.read_csv(\"weather_data/WeatherPy_vacation.csv\")\n",
    "city_data_df.head()"
   ]
  },
  {
   "cell_type": "code",
   "execution_count": 3,
   "metadata": {},
   "outputs": [
    {
     "data": {
      "text/html": [
       "<div>\n",
       "<style scoped>\n",
       "    .dataframe tbody tr th:only-of-type {\n",
       "        vertical-align: middle;\n",
       "    }\n",
       "\n",
       "    .dataframe tbody tr th {\n",
       "        vertical-align: top;\n",
       "    }\n",
       "\n",
       "    .dataframe thead th {\n",
       "        text-align: right;\n",
       "    }\n",
       "</style>\n",
       "<table border=\"1\" class=\"dataframe\">\n",
       "  <thead>\n",
       "    <tr style=\"text-align: right;\">\n",
       "      <th></th>\n",
       "      <th>City</th>\n",
       "      <th>Country</th>\n",
       "      <th>Max Temp</th>\n",
       "      <th>Current description</th>\n",
       "      <th>Lat</th>\n",
       "      <th>Lng</th>\n",
       "      <th>Hotel Name</th>\n",
       "    </tr>\n",
       "  </thead>\n",
       "  <tbody>\n",
       "    <tr>\n",
       "      <th>56</th>\n",
       "      <td>Coahuayana</td>\n",
       "      <td>MX</td>\n",
       "      <td>82.40</td>\n",
       "      <td>scattered clouds</td>\n",
       "      <td>18.73</td>\n",
       "      <td>-103.68</td>\n",
       "      <td>Hotel Los Arcos</td>\n",
       "    </tr>\n",
       "    <tr>\n",
       "      <th>103</th>\n",
       "      <td>Lazaro Cardenas</td>\n",
       "      <td>MX</td>\n",
       "      <td>82.87</td>\n",
       "      <td>clear sky</td>\n",
       "      <td>17.96</td>\n",
       "      <td>-102.20</td>\n",
       "      <td>Hotel Quinta Antigua</td>\n",
       "    </tr>\n",
       "    <tr>\n",
       "      <th>123</th>\n",
       "      <td>San Patricio</td>\n",
       "      <td>MX</td>\n",
       "      <td>80.60</td>\n",
       "      <td>few clouds</td>\n",
       "      <td>19.22</td>\n",
       "      <td>-104.70</td>\n",
       "      <td>Hotel Cabo Blanco</td>\n",
       "    </tr>\n",
       "    <tr>\n",
       "      <th>142</th>\n",
       "      <td>Tomatlan</td>\n",
       "      <td>MX</td>\n",
       "      <td>84.58</td>\n",
       "      <td>broken clouds</td>\n",
       "      <td>19.93</td>\n",
       "      <td>-105.25</td>\n",
       "      <td>Norma franco</td>\n",
       "    </tr>\n",
       "  </tbody>\n",
       "</table>\n",
       "</div>"
      ],
      "text/plain": [
       "                City Country  Max Temp Current description    Lat     Lng  \\\n",
       "56        Coahuayana      MX     82.40    scattered clouds  18.73 -103.68   \n",
       "103  Lazaro Cardenas      MX     82.87           clear sky  17.96 -102.20   \n",
       "123     San Patricio      MX     80.60          few clouds  19.22 -104.70   \n",
       "142         Tomatlan      MX     84.58       broken clouds  19.93 -105.25   \n",
       "\n",
       "               Hotel Name  \n",
       "56        Hotel Los Arcos  \n",
       "103  Hotel Quinta Antigua  \n",
       "123     Hotel Cabo Blanco  \n",
       "142          Norma franco  "
      ]
     },
     "execution_count": 3,
     "metadata": {},
     "output_type": "execute_result"
    }
   ],
   "source": [
    "# least four cities in close proximity\n",
    "destinations_df = city_data_df.loc[(city_data_df[\"City\"] == \"Lazaro Cardenas\") |\n",
    "                                   (city_data_df[\"City\"] == \"Coahuayana\") |\n",
    "                                   (city_data_df[\"City\"] == \"San Patricio\") |\n",
    "                                   (city_data_df[\"City\"] == \"Tomatlan\"), :]\n",
    "destinations_df"
   ]
  },
  {
   "cell_type": "code",
   "execution_count": 5,
   "metadata": {},
   "outputs": [
    {
     "data": {
      "application/vnd.jupyter.widget-view+json": {
       "model_id": "95cd9424bdd84535baf0c7c82afcfdec",
       "version_major": 2,
       "version_minor": 0
      },
      "text/plain": [
       "Figure(layout=FigureLayout(height='420px'))"
      ]
     },
     "metadata": {},
     "output_type": "display_data"
    }
   ],
   "source": [
    "# Create Google Maps Direction Layer \n",
    "\n",
    "dest1_df = destinations_df.loc[(destinations_df[\"City\"] == \"Lazaro Cardenas\"), :]\n",
    "dest2_df = destinations_df.loc[(destinations_df[\"City\"] == \"Coahuayana\"), :]\n",
    "dest3_df = destinations_df.loc[(destinations_df[\"City\"] == \"San Patricio\"), :]\n",
    "dest4_df = destinations_df.loc[(destinations_df[\"City\"] == \"Tomatlan\"), :]\n",
    "\n",
    "dest1_coord = (dest1_df[\"Lat\"].values[0], dest1_df[\"Lng\"].values[0])\n",
    "dest2_coord = (dest2_df[\"Lat\"].values[0], dest2_df[\"Lng\"].values[0])\n",
    "dest3_coord = (dest3_df[\"Lat\"].values[0], dest3_df[\"Lng\"].values[0])\n",
    "dest4_coord = (dest4_df[\"Lat\"].values[0], dest4_df[\"Lng\"].values[0])\n",
    "\n",
    "gmaps.configure(api_key=g_key)\n",
    "\n",
    "destination_layer = gmaps.directions_layer(dest1_coord, dest4_coord, waypoints=[dest2_coord, dest3_coord], travel_mode=\"DRIVING\")\n",
    "fig_d = gmaps.figure()\n",
    "fig_d.add_layer(destination_layer)\n",
    "\n",
    "fig_d"
   ]
  },
  {
   "cell_type": "code",
   "execution_count": 7,
   "metadata": {},
   "outputs": [
    {
     "data": {
      "application/vnd.jupyter.widget-view+json": {
       "model_id": "9401f38af26d465fab69d6c074493cdd",
       "version_major": 2,
       "version_minor": 0
      },
      "text/plain": [
       "Figure(layout=FigureLayout(height='420px'))"
      ]
     },
     "metadata": {},
     "output_type": "display_data"
    }
   ],
   "source": [
    "#Create a marker layer map for the four cities\n",
    "\n",
    "destination_city_info_box_template = \"\"\"\n",
    "<dl>\n",
    "    <dt>Hotel Name</dt>\n",
    "        <dd>{Hotel Name}</dd>\n",
    "    <dt>City</dt>\n",
    "        <dd>{City}</dd>\n",
    "    <dt>Country</dt>\n",
    "        <dd>{Country}</dd>\n",
    "    <dt>Current Weather</dt>\n",
    "        <dd>{Current description} and {Max Temp} °F</dd>\n",
    "</dl>\n",
    "\"\"\"\n",
    "# Create google map pop marker info boxes for destination cities.\n",
    "destination_city_info_boxes = [destination_city_info_box_template.format(**row) for index, row in destinations_df.iterrows()]\n",
    "\n",
    "# Get destination cities locations\n",
    "destination_city_locations = destinations_df[[\"Lat\", \"Lng\"]]\n",
    "\n",
    "# # Configure gmaps to use your Google API key.\n",
    "gmaps.configure(api_key=g_key)\n",
    "\n",
    "# Add a pop-up marker for each city.\n",
    "marker_layer = gmaps.marker_layer(destination_city_locations, info_box_content=destination_city_info_boxes)\n",
    "\n",
    "fig = gmaps.figure()\n",
    "fig.add_layer(marker_layer)\n",
    "\n",
    "# Call the figure to plot the data.\n",
    "fig"
   ]
  },
  {
   "cell_type": "code",
   "execution_count": null,
   "metadata": {},
   "outputs": [],
   "source": []
  }
 ],
 "metadata": {
  "kernelspec": {
   "display_name": "Python 3",
   "language": "python",
   "name": "python3"
  },
  "language_info": {
   "codemirror_mode": {
    "name": "ipython",
    "version": 3
   },
   "file_extension": ".py",
   "mimetype": "text/x-python",
   "name": "python",
   "nbconvert_exporter": "python",
   "pygments_lexer": "ipython3",
   "version": "3.7.7"
  }
 },
 "nbformat": 4,
 "nbformat_minor": 4
}
